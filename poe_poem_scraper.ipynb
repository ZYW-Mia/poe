{
 "cells": [
  {
   "cell_type": "code",
   "execution_count": 398,
   "metadata": {},
   "outputs": [],
   "source": [
    "from bs4 import BeautifulSoup, NavigableString\n",
    "import requests\n",
    "\n",
    "import pandas as pd\n",
    "import re\n",
    "\n",
    "URL = 'https://www.gutenberg.org/files/10031/10031-h/10031-h.htm'\n",
    "page = requests.get(URL)\n",
    "page_decode = page.content.decode('latin-1')\n",
    "page_decode = re.sub('<br>', '\\n', page_decode)\n",
    "# page_decode.replace('<br>', '\\n')\n",
    "soup = BeautifulSoup(page_decode, 'html.parser')"
   ]
  },
  {
   "cell_type": "code",
   "execution_count": 399,
   "metadata": {},
   "outputs": [],
   "source": [
    "invalid_tags = ['b', 'i', 'u']\n",
    "for tag in invalid_tags:\n",
    "    for match in soup.find_all(tag):\n",
    "        match.unwrap()\n",
    "        \n",
    "for match in soup.find_all('h3'):\n",
    "    ''.join(match.strings)\n",
    "\n",
    "        \n",
    "poem_titles = soup.find_all('h3')\n",
    "poem_titles = [poem.text for poem in poem_titles]"
   ]
  },
  {
   "cell_type": "code",
   "execution_count": 400,
   "metadata": {},
   "outputs": [],
   "source": [
    "def extract_between(current, end):\n",
    "    while current and current != end:\n",
    "        if isinstance(current, NavigableString):\n",
    "            text = current.strip()\n",
    "            if len(text):\n",
    "                yield text\n",
    "        current = current.next_element"
   ]
  },
  {
   "cell_type": "code",
   "execution_count": 401,
   "metadata": {},
   "outputs": [],
   "source": [
    "poem_text = []\n",
    "for i in range(len(poem_titles) - 1):\n",
    "    text = ' '.join(text for text in extract_between(soup.find_all('h3')[i].next_sibling, \n",
    "                                                       soup.find_all('h3')[i+1]))\n",
    "    poem_text.append(text)"
   ]
  },
  {
   "cell_type": "code",
   "execution_count": 402,
   "metadata": {},
   "outputs": [],
   "source": [
    "df = pd.DataFrame(list(zip(poem_titles[:-1], poem_text)), columns=['title', 'text'])"
   ]
  },
  {
   "cell_type": "code",
   "execution_count": 404,
   "metadata": {},
   "outputs": [],
   "source": [
    "remove_rows = ['Poems of Later Life', 'Preface', \n",
    "       'Note on The Raven', 'Note on The Bells', 'Note on Ulalume',\n",
    "       'Note on To Helen', 'Note on Annabel Lee', 'Note on A Valentine',\n",
    "       'Note on An Enigma', 'Note on To My Mother', 'Note on For Annie',\n",
    "       'Note on To F——', 'Note on To Frances S. Osgood',\n",
    "       'Note on Eldorado', 'Note on Eulalie',\n",
    "       'Note on A Dream within a Dream', 'Note on To Marie Louise (Shew)',\n",
    "       'Note on the second poem entitled \\xa0To Marie Louise (Shew)',\n",
    "       'Note on The City in the Sea', 'Note on The Sleeper',\n",
    "       'Note on The Bridal Ballad', 'Note on Lenore',\n",
    "       'Note on To One in Paradise', 'Note on The Coliseum',\n",
    "       'Note on The Haunted Palace', 'Note on The Conqueror Worm',\n",
    "       'Note on Silence', 'Note on Dreamland', 'Note on To Zante',\n",
    "       'Note on Hymn', 'Note on Politian', 'Introduction (1831)',\n",
    "       'Note on Al Aaraaf', 'Note on Tamerlane', 'Note on To Helen', \n",
    "       'Note on Romance', 'Note on Alone', 'Note on To Isadore etc.',\n",
    "       'The Island of the Fay', 'The Power of Words',\n",
    "       'The Colloquy of Monos and Una',\n",
    "       'The Conversation of Eiros and Charmion', 'Shadow — a Parable',\n",
    "       'Silence — a Fable', 'The Poetic Principle',\n",
    "       'The Philosophy of Composition']"
   ]
  },
  {
   "cell_type": "code",
   "execution_count": 405,
   "metadata": {},
   "outputs": [],
   "source": [
    "df = df.loc[~df['title'].isin(remove_rows)].reset_index(drop=True)"
   ]
  },
  {
   "cell_type": "code",
   "execution_count": 407,
   "metadata": {},
   "outputs": [],
   "source": [
    "def clean_poem_text(poem_text):\n",
    "    poem_text = poem_text.strip()\n",
    "    poem_text = re.sub(' +', ' ', poem_text)\n",
    "    poem_text = re.sub('\\n\\n\\r\\n\\r\\n', '\\n\\r\\n \\n\\r\\n', poem_text)\n",
    "    poem_text = re.sub('\\n\\r\\n', '\\n', poem_text)\n",
    "    poem_text = re.sub(' +', ' ', poem_text)\n",
    "    return poem_text\n"
   ]
  },
  {
   "cell_type": "code",
   "execution_count": 409,
   "metadata": {},
   "outputs": [],
   "source": [
    "def split_into_stanzas(poem_title_list, poem_text_list):\n",
    "    return_title_list = []\n",
    "    return_stanza_list = []\n",
    "    for poem_index in range(len(poem_title_list)):\n",
    "        poem_text = clean_poem_text(poem_text_list[poem_index])\n",
    "        if poem_title_list[poem_index] == 'The Bells':\n",
    "            first_split = poem_text.split('IV')\n",
    "            stanza_four = first_split[1]\n",
    "            second_split = first_split[0].split('III')\n",
    "            stanza_three = second_split[1]\n",
    "            third_split = second_split[0].split('II')\n",
    "            stanza_two = third_split[1]\n",
    "            stanza_one = third_split[0]\n",
    "            poem_stanzas = [stanza_one, stanza_two, stanza_three, stanza_four]\n",
    "        else:\n",
    "            poem_stanzas = poem_text.split('\\n \\n')\n",
    "        for stanza in poem_stanzas:\n",
    "            return_title_list.append(poem_title_list[poem_index])\n",
    "            return_stanza_list.append(stanza)\n",
    "    return return_title_list, return_stanza_list"
   ]
  },
  {
   "cell_type": "code",
   "execution_count": 410,
   "metadata": {},
   "outputs": [],
   "source": [
    "stanza_title, stanza_text = split_into_stanzas(df['title'].values, df['text'].values)"
   ]
  },
  {
   "cell_type": "code",
   "execution_count": 411,
   "metadata": {},
   "outputs": [],
   "source": [
    "stanza_df = pd.DataFrame(list(zip(stanza_title, stanza_text)), columns=['title', 'stanza_text'])"
   ]
  },
  {
   "cell_type": "code",
   "execution_count": 413,
   "metadata": {},
   "outputs": [],
   "source": [
    "def split_into_lines(poem_title_list, poem_text_list):\n",
    "    return_title_list = []\n",
    "    return_line_list = []\n",
    "    for poem_index in range(len(poem_title_list)):\n",
    "        poem_lines = poem_text_list[poem_index].split('\\n')\n",
    "        for line in poem_lines:\n",
    "            return_title_list.append(poem_title_list[poem_index])\n",
    "            return_line_list.append(line.strip())\n",
    "    return return_title_list, return_line_list\n",
    "        "
   ]
  },
  {
   "cell_type": "code",
   "execution_count": 414,
   "metadata": {},
   "outputs": [],
   "source": [
    "line_title, line_text = split_into_lines(stanza_df['title'].values, stanza_df['stanza_text'].values)"
   ]
  },
  {
   "cell_type": "code",
   "execution_count": 415,
   "metadata": {},
   "outputs": [],
   "source": [
    "line_df = pd.DataFrame(list(zip(line_title, line_text)), columns=['title', 'line_text'])"
   ]
  },
  {
   "cell_type": "code",
   "execution_count": 420,
   "metadata": {},
   "outputs": [],
   "source": [
    "line_df.to_csv('poe_poems_lines.csv', index=False)\n",
    "stanza_df.to_csv('poe_poems_stanzas.csv', index=False)"
   ]
  }
 ],
 "metadata": {
  "kernelspec": {
   "display_name": "Python 3",
   "language": "python",
   "name": "python3"
  },
  "language_info": {
   "codemirror_mode": {
    "name": "ipython",
    "version": 3
   },
   "file_extension": ".py",
   "mimetype": "text/x-python",
   "name": "python",
   "nbconvert_exporter": "python",
   "pygments_lexer": "ipython3",
   "version": "3.7.4"
  }
 },
 "nbformat": 4,
 "nbformat_minor": 4
}
