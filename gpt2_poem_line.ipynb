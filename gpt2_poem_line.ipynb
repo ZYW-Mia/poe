{
 "cells": [
  {
   "cell_type": "code",
   "execution_count": 1,
   "metadata": {
    "colab": {
     "base_uri": "https://localhost:8080/"
    },
    "executionInfo": {
     "elapsed": 631734,
     "status": "ok",
     "timestamp": 1603986718485,
     "user": {
      "displayName": "Scott Duda",
      "photoUrl": "https://lh3.googleusercontent.com/a-/AOh14GjRn5vlsP2VP-TM4jPt1ZKBGq1MJCJ2yl5F4D0H=s64",
      "userId": "07461941358185247463"
     },
     "user_tz": 240
    },
    "id": "yG3O0YcbDGxR",
    "outputId": "b823eebb-75bb-44a6-ccb5-2bcaf2490998"
   },
   "outputs": [
    {
     "name": "stdout",
     "output_type": "stream",
     "text": [
      "Mounted at /content/drive\n"
     ]
    }
   ],
   "source": [
    "# home_directory = ''\n",
    "home_directory = 'drive/My Drive/Colab Notebooks/poe/'\n",
    "\n",
    "from google.colab import drive\n",
    "drive.mount('/content/drive')"
   ]
  },
  {
   "cell_type": "code",
   "execution_count": 2,
   "metadata": {
    "colab": {
     "base_uri": "https://localhost:8080/"
    },
    "executionInfo": {
     "elapsed": 639625,
     "status": "ok",
     "timestamp": 1603986726393,
     "user": {
      "displayName": "Scott Duda",
      "photoUrl": "https://lh3.googleusercontent.com/a-/AOh14GjRn5vlsP2VP-TM4jPt1ZKBGq1MJCJ2yl5F4D0H=s64",
      "userId": "07461941358185247463"
     },
     "user_tz": 240
    },
    "id": "JYKPbTRoDUtz",
    "outputId": "6a2a0b92-9dfd-4795-f0f8-98971d24375c"
   },
   "outputs": [
    {
     "name": "stdout",
     "output_type": "stream",
     "text": [
      "Collecting transformers\n",
      "\u001b[?25l  Downloading https://files.pythonhosted.org/packages/2c/4e/4f1ede0fd7a36278844a277f8d53c21f88f37f3754abf76a5d6224f76d4a/transformers-3.4.0-py3-none-any.whl (1.3MB)\n",
      "\u001b[K     |████████████████████████████████| 1.3MB 6.4MB/s \n",
      "\u001b[?25hRequirement already satisfied: protobuf in /usr/local/lib/python3.6/dist-packages (from transformers) (3.12.4)\n",
      "Collecting sacremoses\n",
      "\u001b[?25l  Downloading https://files.pythonhosted.org/packages/7d/34/09d19aff26edcc8eb2a01bed8e98f13a1537005d31e95233fd48216eed10/sacremoses-0.0.43.tar.gz (883kB)\n",
      "\u001b[K     |████████████████████████████████| 890kB 38.8MB/s \n",
      "\u001b[?25hCollecting sentencepiece!=0.1.92\n",
      "\u001b[?25l  Downloading https://files.pythonhosted.org/packages/e5/2d/6d4ca4bef9a67070fa1cac508606328329152b1df10bdf31fb6e4e727894/sentencepiece-0.1.94-cp36-cp36m-manylinux2014_x86_64.whl (1.1MB)\n",
      "\u001b[K     |████████████████████████████████| 1.1MB 37.1MB/s \n",
      "\u001b[?25hRequirement already satisfied: regex!=2019.12.17 in /usr/local/lib/python3.6/dist-packages (from transformers) (2019.12.20)\n",
      "Requirement already satisfied: filelock in /usr/local/lib/python3.6/dist-packages (from transformers) (3.0.12)\n",
      "Requirement already satisfied: packaging in /usr/local/lib/python3.6/dist-packages (from transformers) (20.4)\n",
      "Requirement already satisfied: requests in /usr/local/lib/python3.6/dist-packages (from transformers) (2.23.0)\n",
      "Requirement already satisfied: numpy in /usr/local/lib/python3.6/dist-packages (from transformers) (1.18.5)\n",
      "Requirement already satisfied: tqdm>=4.27 in /usr/local/lib/python3.6/dist-packages (from transformers) (4.41.1)\n",
      "Collecting tokenizers==0.9.2\n",
      "\u001b[?25l  Downloading https://files.pythonhosted.org/packages/7c/a5/78be1a55b2ac8d6a956f0a211d372726e2b1dd2666bb537fea9b03abd62c/tokenizers-0.9.2-cp36-cp36m-manylinux1_x86_64.whl (2.9MB)\n",
      "\u001b[K     |████████████████████████████████| 2.9MB 40.2MB/s \n",
      "\u001b[?25hRequirement already satisfied: dataclasses; python_version < \"3.7\" in /usr/local/lib/python3.6/dist-packages (from transformers) (0.7)\n",
      "Requirement already satisfied: setuptools in /usr/local/lib/python3.6/dist-packages (from protobuf->transformers) (50.3.0)\n",
      "Requirement already satisfied: six>=1.9 in /usr/local/lib/python3.6/dist-packages (from protobuf->transformers) (1.15.0)\n",
      "Requirement already satisfied: click in /usr/local/lib/python3.6/dist-packages (from sacremoses->transformers) (7.1.2)\n",
      "Requirement already satisfied: joblib in /usr/local/lib/python3.6/dist-packages (from sacremoses->transformers) (0.17.0)\n",
      "Requirement already satisfied: pyparsing>=2.0.2 in /usr/local/lib/python3.6/dist-packages (from packaging->transformers) (2.4.7)\n",
      "Requirement already satisfied: certifi>=2017.4.17 in /usr/local/lib/python3.6/dist-packages (from requests->transformers) (2020.6.20)\n",
      "Requirement already satisfied: chardet<4,>=3.0.2 in /usr/local/lib/python3.6/dist-packages (from requests->transformers) (3.0.4)\n",
      "Requirement already satisfied: idna<3,>=2.5 in /usr/local/lib/python3.6/dist-packages (from requests->transformers) (2.10)\n",
      "Requirement already satisfied: urllib3!=1.25.0,!=1.25.1,<1.26,>=1.21.1 in /usr/local/lib/python3.6/dist-packages (from requests->transformers) (1.24.3)\n",
      "Building wheels for collected packages: sacremoses\n",
      "  Building wheel for sacremoses (setup.py) ... \u001b[?25l\u001b[?25hdone\n",
      "  Created wheel for sacremoses: filename=sacremoses-0.0.43-cp36-none-any.whl size=893257 sha256=a85e007accd1b2afbe039e6a8ae3c47a56982609e01d0a26538dc359fcf9d5d9\n",
      "  Stored in directory: /root/.cache/pip/wheels/29/3c/fd/7ce5c3f0666dab31a50123635e6fb5e19ceb42ce38d4e58f45\n",
      "Successfully built sacremoses\n",
      "Installing collected packages: sacremoses, sentencepiece, tokenizers, transformers\n",
      "Successfully installed sacremoses-0.0.43 sentencepiece-0.1.94 tokenizers-0.9.2 transformers-3.4.0\n"
     ]
    }
   ],
   "source": [
    "!pip install transformers"
   ]
  },
  {
   "cell_type": "code",
   "execution_count": 3,
   "metadata": {
    "colab": {
     "base_uri": "https://localhost:8080/"
    },
    "executionInfo": {
     "elapsed": 641623,
     "status": "ok",
     "timestamp": 1603986728404,
     "user": {
      "displayName": "Scott Duda",
      "photoUrl": "https://lh3.googleusercontent.com/a-/AOh14GjRn5vlsP2VP-TM4jPt1ZKBGq1MJCJ2yl5F4D0H=s64",
      "userId": "07461941358185247463"
     },
     "user_tz": 240
    },
    "id": "QvN_A8yNEmuL",
    "outputId": "acea2910-6c31-45c5-b8a6-e00f526bf1e6"
   },
   "outputs": [
    {
     "name": "stdout",
     "output_type": "stream",
     "text": [
      "[nltk_data] Downloading package stopwords to /root/nltk_data...\n",
      "[nltk_data]   Unzipping corpora/stopwords.zip.\n",
      "[nltk_data] Downloading package punkt to /root/nltk_data...\n",
      "[nltk_data]   Unzipping tokenizers/punkt.zip.\n"
     ]
    },
    {
     "data": {
      "text/plain": [
       "True"
      ]
     },
     "execution_count": 3,
     "metadata": {
      "tags": []
     },
     "output_type": "execute_result"
    }
   ],
   "source": [
    "import nltk\n",
    "nltk.download('stopwords')\n",
    "nltk.download('punkt')"
   ]
  },
  {
   "cell_type": "markdown",
   "metadata": {
    "id": "6ojuAdlpDABj"
   },
   "source": [
    "# Import Libraries & Load Data"
   ]
  },
  {
   "cell_type": "code",
   "execution_count": 4,
   "metadata": {
    "_cell_guid": "b1076dfc-b9ad-4769-8c92-a6c4dae69d19",
    "_uuid": "8f2839f25d086af736a60e9eeb907d3b93b6e0e5",
    "executionInfo": {
     "elapsed": 646771,
     "status": "ok",
     "timestamp": 1603986733555,
     "user": {
      "displayName": "Scott Duda",
      "photoUrl": "https://lh3.googleusercontent.com/a-/AOh14GjRn5vlsP2VP-TM4jPt1ZKBGq1MJCJ2yl5F4D0H=s64",
      "userId": "07461941358185247463"
     },
     "user_tz": 240
    },
    "id": "U28UnrvEDABk"
   },
   "outputs": [],
   "source": [
    "import numpy as np\n",
    "import pandas as pd \n",
    "\n",
    "import os\n",
    "import re\n",
    "import string\n",
    "import random\n",
    "import time\n",
    "import datetime\n",
    "\n",
    "from collections import Counter\n",
    "import itertools\n",
    "from nltk.tokenize import word_tokenize\n",
    "from nltk.corpus import stopwords\n",
    "\n",
    "import matplotlib.pyplot as plt\n",
    "import matplotlib.dates as mdates\n",
    "import seaborn as sns\n",
    "plt.style.use('bmh')\n",
    "\n",
    "import torch\n",
    "from transformers import GPT2Tokenizer, GPT2LMHeadModel, GPT2Config, AdamW, get_linear_schedule_with_warmup\n",
    "from torch.utils.data import Dataset, random_split, DataLoader, RandomSampler, SequentialSampler\n",
    "\n",
    "pd.set_option('display.max_rows', 100)"
   ]
  },
  {
   "cell_type": "code",
   "execution_count": 5,
   "metadata": {
    "_cell_guid": "79c7e3d0-c299-4dcb-8224-4455121ee9b0",
    "_uuid": "d629ff2d2480ee46fbb7e2d37f6b5fab8052498a",
    "executionInfo": {
     "elapsed": 648498,
     "status": "ok",
     "timestamp": 1603986735284,
     "user": {
      "displayName": "Scott Duda",
      "photoUrl": "https://lh3.googleusercontent.com/a-/AOh14GjRn5vlsP2VP-TM4jPt1ZKBGq1MJCJ2yl5F4D0H=s64",
      "userId": "07461941358185247463"
     },
     "user_tz": 240
    },
    "id": "c0Sq2b2qDABn"
   },
   "outputs": [],
   "source": [
    "poem_line_df = pd.read_csv(home_directory + 'poe_poems_lines.csv')\n",
    "poem_line_df = poem_line_df.fillna('')"
   ]
  },
  {
   "cell_type": "markdown",
   "metadata": {
    "id": "NvAA-x3qDADW"
   },
   "source": [
    "# Text Generation - GPT-2\n",
    "## Process Text and Create Dataset\n",
    "\n",
    "http://jalammar.github.io/illustrated-gpt2/\n",
    "https://medium.com/@stasinopoulos.dimitrios/a-beginners-guide-to-training-and-generating-text-using-gpt2-c2f2e1fbd10a\n",
    "https://huggingface.co/transformers/model_doc/gpt2.html\n",
    "https://towardsdatascience.com/step-by-step-guide-on-how-to-train-gpt-2-on-books-using-google-colab-b3c6fa15fef0\n",
    "https://medium.com/swlh/fine-tuning-gpt-2-for-magic-the-gathering-flavour-text-generation-3bafd0f9bb93\n",
    "https://colab.research.google.com/drive/16UTbQOhspQOF3XlxDFyI28S-0nAkTzk_#scrollTo=v4XhewaV93-_"
   ]
  },
  {
   "cell_type": "code",
   "execution_count": 46,
   "metadata": {
    "executionInfo": {
     "elapsed": 682850,
     "status": "ok",
     "timestamp": 1603986769941,
     "user": {
      "displayName": "Scott Duda",
      "photoUrl": "https://lh3.googleusercontent.com/a-/AOh14GjRn5vlsP2VP-TM4jPt1ZKBGq1MJCJ2yl5F4D0H=s64",
      "userId": "07461941358185247463"
     },
     "user_tz": 240
    },
    "id": "mqDVvA-3DADW"
   },
   "outputs": [],
   "source": [
    "RANDOM_SEED = 73\n",
    "BATCH_SIZE = 4\n",
    "\n",
    "EPOCHS = 4\n",
    "SAMPLE_EVERY = 100\n",
    "\n",
    "MAX_SEQUENCE_LENGTH = 512"
   ]
  },
  {
   "cell_type": "code",
   "execution_count": 47,
   "metadata": {
    "colab": {
     "base_uri": "https://localhost:8080/",
     "height": 115,
     "referenced_widgets": [
      "1f35359477ea405b9789ff24e250546b",
      "b70cae5ca73a4ac3a742da150df0d649",
      "e272f30f056b4cf1b1f92dfe50e045bc",
      "d2172bc18d6a420a8d7e0a1bb3b69e23",
      "316c4b609fdc471e8b21a7c9338f19e5",
      "964d71dc60fe459cb957453e47937e50",
      "5763231ceb434c55ad784aa03afbe45d",
      "56ac40250b79440bbe0d95933c9ae8e8",
      "d747e350678543f6ae0c237cecaa6e3f",
      "f6521c70ba724b268103338c2e4d8885",
      "0c147b1df0d14336a73811fb85044efd",
      "d32e5580197341898c8817fcef34eb56",
      "fc0dda773fe5482ba358f55b9b277306",
      "38a0d2b24aab431aa2ce3907e3c4c7ff",
      "c337b040a7514d6384b50bece66cb8ed",
      "516a3444976945be8f0a93810d9c6e03"
     ]
    },
    "executionInfo": {
     "elapsed": 685385,
     "status": "ok",
     "timestamp": 1603986772478,
     "user": {
      "displayName": "Scott Duda",
      "photoUrl": "https://lh3.googleusercontent.com/a-/AOh14GjRn5vlsP2VP-TM4jPt1ZKBGq1MJCJ2yl5F4D0H=s64",
      "userId": "07461941358185247463"
     },
     "user_tz": 240
    },
    "id": "mr2yKiTrDADY",
    "outputId": "f05ddac6-5b07-4ea2-d401-4bda9b77654b"
   },
   "outputs": [
    {
     "data": {
      "application/vnd.jupyter.widget-view+json": {
       "model_id": "1f35359477ea405b9789ff24e250546b",
       "version_major": 2,
       "version_minor": 0
      },
      "text/plain": [
       "HBox(children=(FloatProgress(value=0.0, description='Downloading', max=1042301.0, style=ProgressStyle(descript…"
      ]
     },
     "metadata": {
      "tags": []
     },
     "output_type": "display_data"
    },
    {
     "name": "stdout",
     "output_type": "stream",
     "text": [
      "\n"
     ]
    },
    {
     "data": {
      "application/vnd.jupyter.widget-view+json": {
       "model_id": "d747e350678543f6ae0c237cecaa6e3f",
       "version_major": 2,
       "version_minor": 0
      },
      "text/plain": [
       "HBox(children=(FloatProgress(value=0.0, description='Downloading', max=456318.0, style=ProgressStyle(descripti…"
      ]
     },
     "metadata": {
      "tags": []
     },
     "output_type": "display_data"
    },
    {
     "name": "stdout",
     "output_type": "stream",
     "text": [
      "\n"
     ]
    }
   ],
   "source": [
    "tokenizer = GPT2Tokenizer.from_pretrained('gpt2')\n",
    "\n",
    "special_tokens_dict = {'bos_token': '<BOS>', 'eos_token': '<EOS>', 'pad_token': '<PAD>'}\n",
    "num_added_tokens = tokenizer.add_special_tokens(special_tokens_dict)"
   ]
  },
  {
   "cell_type": "code",
   "execution_count": 55,
   "metadata": {
    "executionInfo": {
     "elapsed": 690232,
     "status": "ok",
     "timestamp": 1603986777364,
     "user": {
      "displayName": "Scott Duda",
      "photoUrl": "https://lh3.googleusercontent.com/a-/AOh14GjRn5vlsP2VP-TM4jPt1ZKBGq1MJCJ2yl5F4D0H=s64",
      "userId": "07461941358185247463"
     },
     "user_tz": 240
    },
    "id": "erUXLChX76-k"
   },
   "outputs": [],
   "source": [
    "class PoePoemDataset(Dataset):\n",
    "    \n",
    "    def __init__(self, data, tokenizer, gpt2_type='gpt2', max_length=MAX_SEQUENCE_LENGTH):\n",
    "        self.tokenizer = tokenizer\n",
    "        self.input_ids = []\n",
    "        self.attn_masks = []\n",
    "        \n",
    "        for i in data:\n",
    "            encodings_dict = tokenizer('<BOS>' + i + '<EOS>',\n",
    "                                     truncation=True,\n",
    "                                     max_length=max_length,\n",
    "                                     padding='max_length'\n",
    "                                    )\n",
    "\n",
    "            self.input_ids.append(torch.tensor(encodings_dict['input_ids']))\n",
    "            self.attn_masks.append(torch.tensor(encodings_dict['attention_mask']))\n",
    "\n",
    "    def __len__(self):\n",
    "        \n",
    "        return len(self.input_ids)\n",
    "    \n",
    "    def __getitem__(self, idx):\n",
    "        \n",
    "        return self.input_ids[idx], self.attn_masks[idx]\n",
    "        "
   ]
  },
  {
   "cell_type": "code",
   "execution_count": 56,
   "metadata": {
    "executionInfo": {
     "elapsed": 697840,
     "status": "ok",
     "timestamp": 1603986784974,
     "user": {
      "displayName": "Scott Duda",
      "photoUrl": "https://lh3.googleusercontent.com/a-/AOh14GjRn5vlsP2VP-TM4jPt1ZKBGq1MJCJ2yl5F4D0H=s64",
      "userId": "07461941358185247463"
     },
     "user_tz": 240
    },
    "id": "F2X7R8B3DADs"
   },
   "outputs": [],
   "source": [
    "poem_line_dataset = PoePoemDataset(poem_line_df['line_text'].values, tokenizer, max_length=MAX_SEQUENCE_LENGTH)"
   ]
  },
  {
   "cell_type": "markdown",
   "metadata": {
    "id": "rw3cxQjKDADu"
   },
   "source": [
    "### Train/Validation Split"
   ]
  },
  {
   "cell_type": "code",
   "execution_count": 57,
   "metadata": {
    "executionInfo": {
     "elapsed": 697841,
     "status": "ok",
     "timestamp": 1603986784976,
     "user": {
      "displayName": "Scott Duda",
      "photoUrl": "https://lh3.googleusercontent.com/a-/AOh14GjRn5vlsP2VP-TM4jPt1ZKBGq1MJCJ2yl5F4D0H=s64",
      "userId": "07461941358185247463"
     },
     "user_tz": 240
    },
    "id": "66YPjdiyDADu"
   },
   "outputs": [],
   "source": [
    "def train_val_split(split, dataset):\n",
    "    train_size = int(split * len(dataset))\n",
    "    val_size = len(dataset) - train_size\n",
    "    return train_size, val_size"
   ]
  },
  {
   "cell_type": "code",
   "execution_count": 58,
   "metadata": {
    "executionInfo": {
     "elapsed": 697839,
     "status": "ok",
     "timestamp": 1603986784977,
     "user": {
      "displayName": "Scott Duda",
      "photoUrl": "https://lh3.googleusercontent.com/a-/AOh14GjRn5vlsP2VP-TM4jPt1ZKBGq1MJCJ2yl5F4D0H=s64",
      "userId": "07461941358185247463"
     },
     "user_tz": 240
    },
    "id": "bdmHhsPbDADw"
   },
   "outputs": [],
   "source": [
    "poem_line_train_size, poem_line_val_size = train_val_split(0.8, poem_line_dataset)\n",
    "\n",
    "# random split imported from troch.utils\n",
    "poem_line_train_dataset, poem_line_val_dataset = random_split(poem_line_dataset, [poem_line_train_size, poem_line_val_size])"
   ]
  },
  {
   "cell_type": "markdown",
   "metadata": {
    "id": "FVmKeOS_DADy"
   },
   "source": [
    "### Apply Random Seeds"
   ]
  },
  {
   "cell_type": "code",
   "execution_count": 59,
   "metadata": {
    "colab": {
     "base_uri": "https://localhost:8080/"
    },
    "executionInfo": {
     "elapsed": 697833,
     "status": "ok",
     "timestamp": 1603986784978,
     "user": {
      "displayName": "Scott Duda",
      "photoUrl": "https://lh3.googleusercontent.com/a-/AOh14GjRn5vlsP2VP-TM4jPt1ZKBGq1MJCJ2yl5F4D0H=s64",
      "userId": "07461941358185247463"
     },
     "user_tz": 240
    },
    "id": "Vjgbzym_DADy",
    "outputId": "5a79758d-1869-4621-8346-46564d4dea02"
   },
   "outputs": [
    {
     "data": {
      "text/plain": [
       "<torch._C.Generator at 0x7f1bf0317420>"
      ]
     },
     "execution_count": 59,
     "metadata": {
      "tags": []
     },
     "output_type": "execute_result"
    }
   ],
   "source": [
    "torch.cuda.manual_seed_all(RANDOM_SEED)\n",
    "random.seed(RANDOM_SEED)\n",
    "np.random.seed(RANDOM_SEED)\n",
    "torch.manual_seed(RANDOM_SEED)"
   ]
  },
  {
   "cell_type": "markdown",
   "metadata": {
    "id": "8fk86UcTDAD2"
   },
   "source": [
    "### Instantiate DataLoaders and Define Model Creation Function\n",
    "\n",
    "---\n",
    "\n"
   ]
  },
  {
   "cell_type": "code",
   "execution_count": 60,
   "metadata": {
    "executionInfo": {
     "elapsed": 697830,
     "status": "ok",
     "timestamp": 1603986784978,
     "user": {
      "displayName": "Scott Duda",
      "photoUrl": "https://lh3.googleusercontent.com/a-/AOh14GjRn5vlsP2VP-TM4jPt1ZKBGq1MJCJ2yl5F4D0H=s64",
      "userId": "07461941358185247463"
     },
     "user_tz": 240
    },
    "id": "IupduXEyDAD2"
   },
   "outputs": [],
   "source": [
    "def create_dataloaders(train_dataset, val_dataset, bs):\n",
    "    train_dataloader = DataLoader(train_dataset,\n",
    "                                  sampler=RandomSampler(train_dataset),\n",
    "                                  batch_size=bs)\n",
    "\n",
    "    val_dataloader = DataLoader(val_dataset,\n",
    "                                sampler=SequentialSampler(val_dataset),\n",
    "                                batch_size=bs)\n",
    "    \n",
    "    return train_dataloader, val_dataloader"
   ]
  },
  {
   "cell_type": "code",
   "execution_count": 61,
   "metadata": {
    "executionInfo": {
     "elapsed": 697829,
     "status": "ok",
     "timestamp": 1603986784979,
     "user": {
      "displayName": "Scott Duda",
      "photoUrl": "https://lh3.googleusercontent.com/a-/AOh14GjRn5vlsP2VP-TM4jPt1ZKBGq1MJCJ2yl5F4D0H=s64",
      "userId": "07461941358185247463"
     },
     "user_tz": 240
    },
    "id": "aNrtN6Y5DAD4"
   },
   "outputs": [],
   "source": [
    "poem_line_train_dataloader, poem_line_val_dataloader = create_dataloaders(poem_line_train_dataset, poem_line_val_dataset, BATCH_SIZE)"
   ]
  },
  {
   "cell_type": "code",
   "execution_count": 62,
   "metadata": {
    "colab": {
     "base_uri": "https://localhost:8080/",
     "height": 66,
     "referenced_widgets": [
      "a47326a853ef432b9585cf96690539f7",
      "ab04323c16e84978a5f873d13c8ade68",
      "5547c013bcad4037a328262600d1fafd",
      "1b78c07bb081425a9c553f4b018c9e5c",
      "4bc2ae74489c4a3dbb4be0cbbf9ee93b",
      "c7241323cf914ecbb4603ccccd98705f",
      "15ce4962eac74f758356243cc2f6a7c2",
      "1bbf654d23374169998e2c348facff01"
     ]
    },
    "executionInfo": {
     "elapsed": 698756,
     "status": "ok",
     "timestamp": 1603986785908,
     "user": {
      "displayName": "Scott Duda",
      "photoUrl": "https://lh3.googleusercontent.com/a-/AOh14GjRn5vlsP2VP-TM4jPt1ZKBGq1MJCJ2yl5F4D0H=s64",
      "userId": "07461941358185247463"
     },
     "user_tz": 240
    },
    "id": "OtPCGDO9DAD6",
    "outputId": "36ac0fa6-68d6-4a81-b7ba-06b7cec15926"
   },
   "outputs": [
    {
     "data": {
      "application/vnd.jupyter.widget-view+json": {
       "model_id": "a47326a853ef432b9585cf96690539f7",
       "version_major": 2,
       "version_minor": 0
      },
      "text/plain": [
       "HBox(children=(FloatProgress(value=0.0, description='Downloading', max=665.0, style=ProgressStyle(description_…"
      ]
     },
     "metadata": {
      "tags": []
     },
     "output_type": "display_data"
    },
    {
     "name": "stdout",
     "output_type": "stream",
     "text": [
      "\n"
     ]
    }
   ],
   "source": [
    "configuration = GPT2Config(vocab_size=len(tokenizer), n_positions=MAX_SEQUENCE_LENGTH).from_pretrained('gpt2', output_hidden_states=True)"
   ]
  },
  {
   "cell_type": "code",
   "execution_count": 63,
   "metadata": {
    "executionInfo": {
     "elapsed": 698756,
     "status": "ok",
     "timestamp": 1603986785909,
     "user": {
      "displayName": "Scott Duda",
      "photoUrl": "https://lh3.googleusercontent.com/a-/AOh14GjRn5vlsP2VP-TM4jPt1ZKBGq1MJCJ2yl5F4D0H=s64",
      "userId": "07461941358185247463"
     },
     "user_tz": 240
    },
    "id": "vtN2HoCSDAD8"
   },
   "outputs": [],
   "source": [
    "# helper function for logging time\n",
    "def format_time(elapsed):\n",
    "    return str(datetime.timedelta(seconds=int(round((elapsed)))))"
   ]
  },
  {
   "cell_type": "code",
   "execution_count": 64,
   "metadata": {
    "executionInfo": {
     "elapsed": 698754,
     "status": "ok",
     "timestamp": 1603986785909,
     "user": {
      "displayName": "Scott Duda",
      "photoUrl": "https://lh3.googleusercontent.com/a-/AOh14GjRn5vlsP2VP-TM4jPt1ZKBGq1MJCJ2yl5F4D0H=s64",
      "userId": "07461941358185247463"
     },
     "user_tz": 240
    },
    "id": "cVAc8qwpDAD-"
   },
   "outputs": [],
   "source": [
    "# hyperparameters\n",
    "\n",
    "learning_rate = 5e-4\n",
    "eps = 1e-8\n",
    "warmup_steps = 1e2"
   ]
  },
  {
   "cell_type": "code",
   "execution_count": 65,
   "metadata": {
    "executionInfo": {
     "elapsed": 710223,
     "status": "ok",
     "timestamp": 1603986797382,
     "user": {
      "displayName": "Scott Duda",
      "photoUrl": "https://lh3.googleusercontent.com/a-/AOh14GjRn5vlsP2VP-TM4jPt1ZKBGq1MJCJ2yl5F4D0H=s64",
      "userId": "07461941358185247463"
     },
     "user_tz": 240
    },
    "id": "28bCokPoDrHM"
   },
   "outputs": [],
   "source": [
    "# create text generation seed prompt\n",
    "device = torch.device('cuda')\n",
    "# device = torch.device('cpu')\n",
    "prompt = \"<BOS>\"\n",
    "generated = torch.tensor(tokenizer.encode(prompt)).unsqueeze(0)\n",
    "generated = generated.to(device)"
   ]
  },
  {
   "cell_type": "code",
   "execution_count": 66,
   "metadata": {
    "executionInfo": {
     "elapsed": 710224,
     "status": "ok",
     "timestamp": 1603986797385,
     "user": {
      "displayName": "Scott Duda",
      "photoUrl": "https://lh3.googleusercontent.com/a-/AOh14GjRn5vlsP2VP-TM4jPt1ZKBGq1MJCJ2yl5F4D0H=s64",
      "userId": "07461941358185247463"
     },
     "user_tz": 240
    },
    "id": "91z0CIlTDAD_"
   },
   "outputs": [],
   "source": [
    "def create_model(train_dataloader, val_dataloader, file_name):\n",
    "\n",
    "    model = GPT2LMHeadModel.from_pretrained('gpt2', config=configuration)\n",
    "    model.resize_token_embeddings(len(tokenizer))\n",
    "    \n",
    "    model.cuda()\n",
    "    optimizer = AdamW(model.parameters(), lr=learning_rate, eps=eps)\n",
    "\n",
    "    total_steps = len(train_dataloader) * EPOCHS\n",
    "    scheduler = get_linear_schedule_with_warmup(optimizer,\n",
    "                                                num_warmup_steps=warmup_steps,\n",
    "                                                num_training_steps=total_steps)\n",
    "    \n",
    "    total_t0 = time.time()\n",
    "    model = model.to(device)\n",
    "\n",
    "    for epoch_i in range(0, EPOCHS):\n",
    "\n",
    "        print(f'Epoch {epoch_i + 1} of {EPOCHS}')\n",
    "\n",
    "        t0 = time.time()\n",
    "        total_train_loss = 0\n",
    "        model.train()\n",
    "\n",
    "        for step, batch in enumerate(train_dataloader):\n",
    "\n",
    "            b_input_ids = batch[0].to(device)\n",
    "            b_labels = batch[0].to(device)\n",
    "            b_masks = batch[1].to(device)\n",
    "\n",
    "            model.zero_grad()        \n",
    "\n",
    "            outputs = model(b_input_ids,\n",
    "                            labels=b_labels, \n",
    "                            attention_mask=b_masks,\n",
    "                            token_type_ids=None)\n",
    "\n",
    "            loss = outputs[0]  \n",
    "\n",
    "            batch_loss = loss.item()\n",
    "            total_train_loss += batch_loss\n",
    "\n",
    "            if step % SAMPLE_EVERY == 0 and step != 0:\n",
    "                \n",
    "                model.eval()\n",
    "                sample_outputs = model.generate(\n",
    "                                        generated,\n",
    "                                        do_sample=True,   \n",
    "                                        top_k=50, \n",
    "                                        max_length=200,\n",
    "                                        top_p=0.95, \n",
    "                                        num_return_sequences=1\n",
    "                                    )\n",
    "                for i, sample_output in enumerate(sample_outputs):\n",
    "                      print(f'Example output: {tokenizer.decode(sample_output, skip_special_tokens=True)}')\n",
    "\n",
    "                model.train()\n",
    "\n",
    "            loss.backward()\n",
    "            optimizer.step()\n",
    "            scheduler.step()\n",
    "\n",
    "        avg_train_loss = total_train_loss / len(train_dataloader)       \n",
    "        training_time = format_time(time.time() - t0)\n",
    "\n",
    "        print(f'Average Training Loss: {avg_train_loss}. Epoch time: {training_time}')\n",
    "\n",
    "        t0 = time.time()\n",
    "\n",
    "        print('Evaluating Model')\n",
    "\n",
    "        model.eval()\n",
    "\n",
    "        total_eval_loss = 0\n",
    "        nb_eval_steps = 0\n",
    "\n",
    "        for batch in val_dataloader:\n",
    "            b_input_ids = batch[0].to(device)\n",
    "            b_labels = batch[0].to(device)\n",
    "            b_masks = batch[1].to(device)\n",
    "\n",
    "            with torch.no_grad():        \n",
    "\n",
    "                outputs  = model(b_input_ids,  \n",
    "                                 attention_mask=b_masks,\n",
    "                                 labels=b_labels)\n",
    "\n",
    "                loss = outputs[0]  \n",
    "\n",
    "            batch_loss = loss.item()\n",
    "            total_eval_loss += batch_loss        \n",
    "\n",
    "        avg_val_loss = total_eval_loss / len(val_dataloader)\n",
    "\n",
    "        validation_time = format_time(time.time() - t0)    \n",
    "\n",
    "        print(f'Validation loss: {avg_val_loss}. Validation Time: {validation_time}')\n",
    "\n",
    "    print(f'Total training took {format_time(time.time()-total_t0)}')\n",
    "\n",
    "    torch.save(model.state_dict(), home_directory + file_name)\n",
    "    return model"
   ]
  },
  {
   "cell_type": "markdown",
   "metadata": {
    "id": "161B2lelGERs"
   },
   "source": [
    "# Create Poem Line Model"
   ]
  },
  {
   "cell_type": "code",
   "execution_count": 67,
   "metadata": {
    "executionInfo": {
     "elapsed": 710223,
     "status": "ok",
     "timestamp": 1603986797386,
     "user": {
      "displayName": "Scott Duda",
      "photoUrl": "https://lh3.googleusercontent.com/a-/AOh14GjRn5vlsP2VP-TM4jPt1ZKBGq1MJCJ2yl5F4D0H=s64",
      "userId": "07461941358185247463"
     },
     "user_tz": 240
    },
    "id": "cbmZJMtTDAEA"
   },
   "outputs": [],
   "source": [
    "poem_line_model = create_model(poem_line_train_dataloader, poem_line_val_dataloader, 'poem_line_model_4_epoch.pth')"
   ]
  },
  {
   "cell_type": "markdown",
   "metadata": {
    "id": "jDT-UfrjGOJG"
   },
   "source": [
    "# Generate Poem Lines"
   ]
  },
  {
   "cell_type": "code",
   "execution_count": 68,
   "metadata": {
    "executionInfo": {
     "elapsed": 710221,
     "status": "ok",
     "timestamp": 1603986797386,
     "user": {
      "displayName": "Scott Duda",
      "photoUrl": "https://lh3.googleusercontent.com/a-/AOh14GjRn5vlsP2VP-TM4jPt1ZKBGq1MJCJ2yl5F4D0H=s64",
      "userId": "07461941358185247463"
     },
     "user_tz": 240
    },
    "id": "94UuqNTQDAEF"
   },
   "outputs": [],
   "source": [
    "poem_line_model.eval()\n",
    "\n",
    "sample_outputs = poem_line_model.generate(\n",
    "                                generated, \n",
    "                                do_sample=True,   \n",
    "                                top_k=50, \n",
    "                                max_length=512,\n",
    "                                top_p=0.95, \n",
    "                                num_return_sequences=100\n",
    "                                )\n",
    "\n",
    "for i, sample_output in enumerate(sample_outputs):\n",
    "    print(\"{}: {}\\n\\n\".format(i, tokenizer.decode(sample_output, skip_special_tokens=True)))"
   ]
  }
 ],
 "metadata": {
  "accelerator": "GPU",
  "colab": {
   "collapsed_sections": [
    "6ojuAdlpDABj",
    "FVmKeOS_DADy"
   ],
   "name": "Poe GPT-2.ipynb",
   "provenance": []
  },
  "kernelspec": {
   "display_name": "Python 3",
   "language": "python",
   "name": "python3"
  },
  "language_info": {
   "codemirror_mode": {
    "name": "ipython",
    "version": 3
   },
   "file_extension": ".py",
   "mimetype": "text/x-python",
   "name": "python",
   "nbconvert_exporter": "python",
   "pygments_lexer": "ipython3",
   "version": "3.7.4"
  },
  "widgets": {
   "application/vnd.jupyter.widget-state+json": {
    "0c03cb12edbd4dffa704a1bf0198e2ce": {
     "model_module": "@jupyter-widgets/base",
     "model_name": "LayoutModel",
     "state": {
      "_model_module": "@jupyter-widgets/base",
      "_model_module_version": "1.2.0",
      "_model_name": "LayoutModel",
      "_view_count": null,
      "_view_module": "@jupyter-widgets/base",
      "_view_module_version": "1.2.0",
      "_view_name": "LayoutView",
      "align_content": null,
      "align_items": null,
      "align_self": null,
      "border": null,
      "bottom": null,
      "display": null,
      "flex": null,
      "flex_flow": null,
      "grid_area": null,
      "grid_auto_columns": null,
      "grid_auto_flow": null,
      "grid_auto_rows": null,
      "grid_column": null,
      "grid_gap": null,
      "grid_row": null,
      "grid_template_areas": null,
      "grid_template_columns": null,
      "grid_template_rows": null,
      "height": null,
      "justify_content": null,
      "justify_items": null,
      "left": null,
      "margin": null,
      "max_height": null,
      "max_width": null,
      "min_height": null,
      "min_width": null,
      "object_fit": null,
      "object_position": null,
      "order": null,
      "overflow": null,
      "overflow_x": null,
      "overflow_y": null,
      "padding": null,
      "right": null,
      "top": null,
      "visibility": null,
      "width": null
     }
    },
    "0c147b1df0d14336a73811fb85044efd": {
     "model_module": "@jupyter-widgets/controls",
     "model_name": "FloatProgressModel",
     "state": {
      "_dom_classes": [],
      "_model_module": "@jupyter-widgets/controls",
      "_model_module_version": "1.5.0",
      "_model_name": "FloatProgressModel",
      "_view_count": null,
      "_view_module": "@jupyter-widgets/controls",
      "_view_module_version": "1.5.0",
      "_view_name": "ProgressView",
      "bar_style": "success",
      "description": "Downloading: 100%",
      "description_tooltip": null,
      "layout": "IPY_MODEL_38a0d2b24aab431aa2ce3907e3c4c7ff",
      "max": 456318,
      "min": 0,
      "orientation": "horizontal",
      "style": "IPY_MODEL_fc0dda773fe5482ba358f55b9b277306",
      "value": 456318
     }
    },
    "15ce4962eac74f758356243cc2f6a7c2": {
     "model_module": "@jupyter-widgets/controls",
     "model_name": "DescriptionStyleModel",
     "state": {
      "_model_module": "@jupyter-widgets/controls",
      "_model_module_version": "1.5.0",
      "_model_name": "DescriptionStyleModel",
      "_view_count": null,
      "_view_module": "@jupyter-widgets/base",
      "_view_module_version": "1.2.0",
      "_view_name": "StyleView",
      "description_width": ""
     }
    },
    "1b78c07bb081425a9c553f4b018c9e5c": {
     "model_module": "@jupyter-widgets/controls",
     "model_name": "HTMLModel",
     "state": {
      "_dom_classes": [],
      "_model_module": "@jupyter-widgets/controls",
      "_model_module_version": "1.5.0",
      "_model_name": "HTMLModel",
      "_view_count": null,
      "_view_module": "@jupyter-widgets/controls",
      "_view_module_version": "1.5.0",
      "_view_name": "HTMLView",
      "description": "",
      "description_tooltip": null,
      "layout": "IPY_MODEL_1bbf654d23374169998e2c348facff01",
      "placeholder": "​",
      "style": "IPY_MODEL_15ce4962eac74f758356243cc2f6a7c2",
      "value": " 665/665 [00:12&lt;00:00, 55.4B/s]"
     }
    },
    "1bbf654d23374169998e2c348facff01": {
     "model_module": "@jupyter-widgets/base",
     "model_name": "LayoutModel",
     "state": {
      "_model_module": "@jupyter-widgets/base",
      "_model_module_version": "1.2.0",
      "_model_name": "LayoutModel",
      "_view_count": null,
      "_view_module": "@jupyter-widgets/base",
      "_view_module_version": "1.2.0",
      "_view_name": "LayoutView",
      "align_content": null,
      "align_items": null,
      "align_self": null,
      "border": null,
      "bottom": null,
      "display": null,
      "flex": null,
      "flex_flow": null,
      "grid_area": null,
      "grid_auto_columns": null,
      "grid_auto_flow": null,
      "grid_auto_rows": null,
      "grid_column": null,
      "grid_gap": null,
      "grid_row": null,
      "grid_template_areas": null,
      "grid_template_columns": null,
      "grid_template_rows": null,
      "height": null,
      "justify_content": null,
      "justify_items": null,
      "left": null,
      "margin": null,
      "max_height": null,
      "max_width": null,
      "min_height": null,
      "min_width": null,
      "object_fit": null,
      "object_position": null,
      "order": null,
      "overflow": null,
      "overflow_x": null,
      "overflow_y": null,
      "padding": null,
      "right": null,
      "top": null,
      "visibility": null,
      "width": null
     }
    },
    "1e0b30803881441988419227179679b6": {
     "model_module": "@jupyter-widgets/controls",
     "model_name": "HTMLModel",
     "state": {
      "_dom_classes": [],
      "_model_module": "@jupyter-widgets/controls",
      "_model_module_version": "1.5.0",
      "_model_name": "HTMLModel",
      "_view_count": null,
      "_view_module": "@jupyter-widgets/controls",
      "_view_module_version": "1.5.0",
      "_view_name": "HTMLView",
      "description": "",
      "description_tooltip": null,
      "layout": "IPY_MODEL_0c03cb12edbd4dffa704a1bf0198e2ce",
      "placeholder": "​",
      "style": "IPY_MODEL_6e644b8638ec46ac85c6873735ad50a0",
      "value": " 548M/548M [00:11&lt;00:00, 46.0MB/s]"
     }
    },
    "1f35359477ea405b9789ff24e250546b": {
     "model_module": "@jupyter-widgets/controls",
     "model_name": "HBoxModel",
     "state": {
      "_dom_classes": [],
      "_model_module": "@jupyter-widgets/controls",
      "_model_module_version": "1.5.0",
      "_model_name": "HBoxModel",
      "_view_count": null,
      "_view_module": "@jupyter-widgets/controls",
      "_view_module_version": "1.5.0",
      "_view_name": "HBoxView",
      "box_style": "",
      "children": [
       "IPY_MODEL_e272f30f056b4cf1b1f92dfe50e045bc",
       "IPY_MODEL_d2172bc18d6a420a8d7e0a1bb3b69e23"
      ],
      "layout": "IPY_MODEL_b70cae5ca73a4ac3a742da150df0d649"
     }
    },
    "24b4fa70fee64177891166b81c279a1d": {
     "model_module": "@jupyter-widgets/base",
     "model_name": "LayoutModel",
     "state": {
      "_model_module": "@jupyter-widgets/base",
      "_model_module_version": "1.2.0",
      "_model_name": "LayoutModel",
      "_view_count": null,
      "_view_module": "@jupyter-widgets/base",
      "_view_module_version": "1.2.0",
      "_view_name": "LayoutView",
      "align_content": null,
      "align_items": null,
      "align_self": null,
      "border": null,
      "bottom": null,
      "display": null,
      "flex": null,
      "flex_flow": null,
      "grid_area": null,
      "grid_auto_columns": null,
      "grid_auto_flow": null,
      "grid_auto_rows": null,
      "grid_column": null,
      "grid_gap": null,
      "grid_row": null,
      "grid_template_areas": null,
      "grid_template_columns": null,
      "grid_template_rows": null,
      "height": null,
      "justify_content": null,
      "justify_items": null,
      "left": null,
      "margin": null,
      "max_height": null,
      "max_width": null,
      "min_height": null,
      "min_width": null,
      "object_fit": null,
      "object_position": null,
      "order": null,
      "overflow": null,
      "overflow_x": null,
      "overflow_y": null,
      "padding": null,
      "right": null,
      "top": null,
      "visibility": null,
      "width": null
     }
    },
    "316c4b609fdc471e8b21a7c9338f19e5": {
     "model_module": "@jupyter-widgets/controls",
     "model_name": "ProgressStyleModel",
     "state": {
      "_model_module": "@jupyter-widgets/controls",
      "_model_module_version": "1.5.0",
      "_model_name": "ProgressStyleModel",
      "_view_count": null,
      "_view_module": "@jupyter-widgets/base",
      "_view_module_version": "1.2.0",
      "_view_name": "StyleView",
      "bar_color": null,
      "description_width": "initial"
     }
    },
    "38a0d2b24aab431aa2ce3907e3c4c7ff": {
     "model_module": "@jupyter-widgets/base",
     "model_name": "LayoutModel",
     "state": {
      "_model_module": "@jupyter-widgets/base",
      "_model_module_version": "1.2.0",
      "_model_name": "LayoutModel",
      "_view_count": null,
      "_view_module": "@jupyter-widgets/base",
      "_view_module_version": "1.2.0",
      "_view_name": "LayoutView",
      "align_content": null,
      "align_items": null,
      "align_self": null,
      "border": null,
      "bottom": null,
      "display": null,
      "flex": null,
      "flex_flow": null,
      "grid_area": null,
      "grid_auto_columns": null,
      "grid_auto_flow": null,
      "grid_auto_rows": null,
      "grid_column": null,
      "grid_gap": null,
      "grid_row": null,
      "grid_template_areas": null,
      "grid_template_columns": null,
      "grid_template_rows": null,
      "height": null,
      "justify_content": null,
      "justify_items": null,
      "left": null,
      "margin": null,
      "max_height": null,
      "max_width": null,
      "min_height": null,
      "min_width": null,
      "object_fit": null,
      "object_position": null,
      "order": null,
      "overflow": null,
      "overflow_x": null,
      "overflow_y": null,
      "padding": null,
      "right": null,
      "top": null,
      "visibility": null,
      "width": null
     }
    },
    "4bc2ae74489c4a3dbb4be0cbbf9ee93b": {
     "model_module": "@jupyter-widgets/controls",
     "model_name": "ProgressStyleModel",
     "state": {
      "_model_module": "@jupyter-widgets/controls",
      "_model_module_version": "1.5.0",
      "_model_name": "ProgressStyleModel",
      "_view_count": null,
      "_view_module": "@jupyter-widgets/base",
      "_view_module_version": "1.2.0",
      "_view_name": "StyleView",
      "bar_color": null,
      "description_width": "initial"
     }
    },
    "516a3444976945be8f0a93810d9c6e03": {
     "model_module": "@jupyter-widgets/base",
     "model_name": "LayoutModel",
     "state": {
      "_model_module": "@jupyter-widgets/base",
      "_model_module_version": "1.2.0",
      "_model_name": "LayoutModel",
      "_view_count": null,
      "_view_module": "@jupyter-widgets/base",
      "_view_module_version": "1.2.0",
      "_view_name": "LayoutView",
      "align_content": null,
      "align_items": null,
      "align_self": null,
      "border": null,
      "bottom": null,
      "display": null,
      "flex": null,
      "flex_flow": null,
      "grid_area": null,
      "grid_auto_columns": null,
      "grid_auto_flow": null,
      "grid_auto_rows": null,
      "grid_column": null,
      "grid_gap": null,
      "grid_row": null,
      "grid_template_areas": null,
      "grid_template_columns": null,
      "grid_template_rows": null,
      "height": null,
      "justify_content": null,
      "justify_items": null,
      "left": null,
      "margin": null,
      "max_height": null,
      "max_width": null,
      "min_height": null,
      "min_width": null,
      "object_fit": null,
      "object_position": null,
      "order": null,
      "overflow": null,
      "overflow_x": null,
      "overflow_y": null,
      "padding": null,
      "right": null,
      "top": null,
      "visibility": null,
      "width": null
     }
    },
    "5547c013bcad4037a328262600d1fafd": {
     "model_module": "@jupyter-widgets/controls",
     "model_name": "FloatProgressModel",
     "state": {
      "_dom_classes": [],
      "_model_module": "@jupyter-widgets/controls",
      "_model_module_version": "1.5.0",
      "_model_name": "FloatProgressModel",
      "_view_count": null,
      "_view_module": "@jupyter-widgets/controls",
      "_view_module_version": "1.5.0",
      "_view_name": "ProgressView",
      "bar_style": "success",
      "description": "Downloading: 100%",
      "description_tooltip": null,
      "layout": "IPY_MODEL_c7241323cf914ecbb4603ccccd98705f",
      "max": 665,
      "min": 0,
      "orientation": "horizontal",
      "style": "IPY_MODEL_4bc2ae74489c4a3dbb4be0cbbf9ee93b",
      "value": 665
     }
    },
    "56ac40250b79440bbe0d95933c9ae8e8": {
     "model_module": "@jupyter-widgets/base",
     "model_name": "LayoutModel",
     "state": {
      "_model_module": "@jupyter-widgets/base",
      "_model_module_version": "1.2.0",
      "_model_name": "LayoutModel",
      "_view_count": null,
      "_view_module": "@jupyter-widgets/base",
      "_view_module_version": "1.2.0",
      "_view_name": "LayoutView",
      "align_content": null,
      "align_items": null,
      "align_self": null,
      "border": null,
      "bottom": null,
      "display": null,
      "flex": null,
      "flex_flow": null,
      "grid_area": null,
      "grid_auto_columns": null,
      "grid_auto_flow": null,
      "grid_auto_rows": null,
      "grid_column": null,
      "grid_gap": null,
      "grid_row": null,
      "grid_template_areas": null,
      "grid_template_columns": null,
      "grid_template_rows": null,
      "height": null,
      "justify_content": null,
      "justify_items": null,
      "left": null,
      "margin": null,
      "max_height": null,
      "max_width": null,
      "min_height": null,
      "min_width": null,
      "object_fit": null,
      "object_position": null,
      "order": null,
      "overflow": null,
      "overflow_x": null,
      "overflow_y": null,
      "padding": null,
      "right": null,
      "top": null,
      "visibility": null,
      "width": null
     }
    },
    "5763231ceb434c55ad784aa03afbe45d": {
     "model_module": "@jupyter-widgets/controls",
     "model_name": "DescriptionStyleModel",
     "state": {
      "_model_module": "@jupyter-widgets/controls",
      "_model_module_version": "1.5.0",
      "_model_name": "DescriptionStyleModel",
      "_view_count": null,
      "_view_module": "@jupyter-widgets/base",
      "_view_module_version": "1.2.0",
      "_view_name": "StyleView",
      "description_width": ""
     }
    },
    "60d45f1c2fda472da03a8d9a12586cbd": {
     "model_module": "@jupyter-widgets/controls",
     "model_name": "FloatProgressModel",
     "state": {
      "_dom_classes": [],
      "_model_module": "@jupyter-widgets/controls",
      "_model_module_version": "1.5.0",
      "_model_name": "FloatProgressModel",
      "_view_count": null,
      "_view_module": "@jupyter-widgets/controls",
      "_view_module_version": "1.5.0",
      "_view_name": "ProgressView",
      "bar_style": "success",
      "description": "Downloading: 100%",
      "description_tooltip": null,
      "layout": "IPY_MODEL_72008ffdf1b54cf6b17a43a29aa01326",
      "max": 548118077,
      "min": 0,
      "orientation": "horizontal",
      "style": "IPY_MODEL_aaea1ccf6fb94a04b015959525e14c6f",
      "value": 548118077
     }
    },
    "6e644b8638ec46ac85c6873735ad50a0": {
     "model_module": "@jupyter-widgets/controls",
     "model_name": "DescriptionStyleModel",
     "state": {
      "_model_module": "@jupyter-widgets/controls",
      "_model_module_version": "1.5.0",
      "_model_name": "DescriptionStyleModel",
      "_view_count": null,
      "_view_module": "@jupyter-widgets/base",
      "_view_module_version": "1.2.0",
      "_view_name": "StyleView",
      "description_width": ""
     }
    },
    "72008ffdf1b54cf6b17a43a29aa01326": {
     "model_module": "@jupyter-widgets/base",
     "model_name": "LayoutModel",
     "state": {
      "_model_module": "@jupyter-widgets/base",
      "_model_module_version": "1.2.0",
      "_model_name": "LayoutModel",
      "_view_count": null,
      "_view_module": "@jupyter-widgets/base",
      "_view_module_version": "1.2.0",
      "_view_name": "LayoutView",
      "align_content": null,
      "align_items": null,
      "align_self": null,
      "border": null,
      "bottom": null,
      "display": null,
      "flex": null,
      "flex_flow": null,
      "grid_area": null,
      "grid_auto_columns": null,
      "grid_auto_flow": null,
      "grid_auto_rows": null,
      "grid_column": null,
      "grid_gap": null,
      "grid_row": null,
      "grid_template_areas": null,
      "grid_template_columns": null,
      "grid_template_rows": null,
      "height": null,
      "justify_content": null,
      "justify_items": null,
      "left": null,
      "margin": null,
      "max_height": null,
      "max_width": null,
      "min_height": null,
      "min_width": null,
      "object_fit": null,
      "object_position": null,
      "order": null,
      "overflow": null,
      "overflow_x": null,
      "overflow_y": null,
      "padding": null,
      "right": null,
      "top": null,
      "visibility": null,
      "width": null
     }
    },
    "8915376a612e4d4a86797b6b18fead2d": {
     "model_module": "@jupyter-widgets/controls",
     "model_name": "HBoxModel",
     "state": {
      "_dom_classes": [],
      "_model_module": "@jupyter-widgets/controls",
      "_model_module_version": "1.5.0",
      "_model_name": "HBoxModel",
      "_view_count": null,
      "_view_module": "@jupyter-widgets/controls",
      "_view_module_version": "1.5.0",
      "_view_name": "HBoxView",
      "box_style": "",
      "children": [
       "IPY_MODEL_60d45f1c2fda472da03a8d9a12586cbd",
       "IPY_MODEL_1e0b30803881441988419227179679b6"
      ],
      "layout": "IPY_MODEL_24b4fa70fee64177891166b81c279a1d"
     }
    },
    "964d71dc60fe459cb957453e47937e50": {
     "model_module": "@jupyter-widgets/base",
     "model_name": "LayoutModel",
     "state": {
      "_model_module": "@jupyter-widgets/base",
      "_model_module_version": "1.2.0",
      "_model_name": "LayoutModel",
      "_view_count": null,
      "_view_module": "@jupyter-widgets/base",
      "_view_module_version": "1.2.0",
      "_view_name": "LayoutView",
      "align_content": null,
      "align_items": null,
      "align_self": null,
      "border": null,
      "bottom": null,
      "display": null,
      "flex": null,
      "flex_flow": null,
      "grid_area": null,
      "grid_auto_columns": null,
      "grid_auto_flow": null,
      "grid_auto_rows": null,
      "grid_column": null,
      "grid_gap": null,
      "grid_row": null,
      "grid_template_areas": null,
      "grid_template_columns": null,
      "grid_template_rows": null,
      "height": null,
      "justify_content": null,
      "justify_items": null,
      "left": null,
      "margin": null,
      "max_height": null,
      "max_width": null,
      "min_height": null,
      "min_width": null,
      "object_fit": null,
      "object_position": null,
      "order": null,
      "overflow": null,
      "overflow_x": null,
      "overflow_y": null,
      "padding": null,
      "right": null,
      "top": null,
      "visibility": null,
      "width": null
     }
    },
    "a47326a853ef432b9585cf96690539f7": {
     "model_module": "@jupyter-widgets/controls",
     "model_name": "HBoxModel",
     "state": {
      "_dom_classes": [],
      "_model_module": "@jupyter-widgets/controls",
      "_model_module_version": "1.5.0",
      "_model_name": "HBoxModel",
      "_view_count": null,
      "_view_module": "@jupyter-widgets/controls",
      "_view_module_version": "1.5.0",
      "_view_name": "HBoxView",
      "box_style": "",
      "children": [
       "IPY_MODEL_5547c013bcad4037a328262600d1fafd",
       "IPY_MODEL_1b78c07bb081425a9c553f4b018c9e5c"
      ],
      "layout": "IPY_MODEL_ab04323c16e84978a5f873d13c8ade68"
     }
    },
    "aaea1ccf6fb94a04b015959525e14c6f": {
     "model_module": "@jupyter-widgets/controls",
     "model_name": "ProgressStyleModel",
     "state": {
      "_model_module": "@jupyter-widgets/controls",
      "_model_module_version": "1.5.0",
      "_model_name": "ProgressStyleModel",
      "_view_count": null,
      "_view_module": "@jupyter-widgets/base",
      "_view_module_version": "1.2.0",
      "_view_name": "StyleView",
      "bar_color": null,
      "description_width": "initial"
     }
    },
    "ab04323c16e84978a5f873d13c8ade68": {
     "model_module": "@jupyter-widgets/base",
     "model_name": "LayoutModel",
     "state": {
      "_model_module": "@jupyter-widgets/base",
      "_model_module_version": "1.2.0",
      "_model_name": "LayoutModel",
      "_view_count": null,
      "_view_module": "@jupyter-widgets/base",
      "_view_module_version": "1.2.0",
      "_view_name": "LayoutView",
      "align_content": null,
      "align_items": null,
      "align_self": null,
      "border": null,
      "bottom": null,
      "display": null,
      "flex": null,
      "flex_flow": null,
      "grid_area": null,
      "grid_auto_columns": null,
      "grid_auto_flow": null,
      "grid_auto_rows": null,
      "grid_column": null,
      "grid_gap": null,
      "grid_row": null,
      "grid_template_areas": null,
      "grid_template_columns": null,
      "grid_template_rows": null,
      "height": null,
      "justify_content": null,
      "justify_items": null,
      "left": null,
      "margin": null,
      "max_height": null,
      "max_width": null,
      "min_height": null,
      "min_width": null,
      "object_fit": null,
      "object_position": null,
      "order": null,
      "overflow": null,
      "overflow_x": null,
      "overflow_y": null,
      "padding": null,
      "right": null,
      "top": null,
      "visibility": null,
      "width": null
     }
    },
    "b70cae5ca73a4ac3a742da150df0d649": {
     "model_module": "@jupyter-widgets/base",
     "model_name": "LayoutModel",
     "state": {
      "_model_module": "@jupyter-widgets/base",
      "_model_module_version": "1.2.0",
      "_model_name": "LayoutModel",
      "_view_count": null,
      "_view_module": "@jupyter-widgets/base",
      "_view_module_version": "1.2.0",
      "_view_name": "LayoutView",
      "align_content": null,
      "align_items": null,
      "align_self": null,
      "border": null,
      "bottom": null,
      "display": null,
      "flex": null,
      "flex_flow": null,
      "grid_area": null,
      "grid_auto_columns": null,
      "grid_auto_flow": null,
      "grid_auto_rows": null,
      "grid_column": null,
      "grid_gap": null,
      "grid_row": null,
      "grid_template_areas": null,
      "grid_template_columns": null,
      "grid_template_rows": null,
      "height": null,
      "justify_content": null,
      "justify_items": null,
      "left": null,
      "margin": null,
      "max_height": null,
      "max_width": null,
      "min_height": null,
      "min_width": null,
      "object_fit": null,
      "object_position": null,
      "order": null,
      "overflow": null,
      "overflow_x": null,
      "overflow_y": null,
      "padding": null,
      "right": null,
      "top": null,
      "visibility": null,
      "width": null
     }
    },
    "c337b040a7514d6384b50bece66cb8ed": {
     "model_module": "@jupyter-widgets/controls",
     "model_name": "DescriptionStyleModel",
     "state": {
      "_model_module": "@jupyter-widgets/controls",
      "_model_module_version": "1.5.0",
      "_model_name": "DescriptionStyleModel",
      "_view_count": null,
      "_view_module": "@jupyter-widgets/base",
      "_view_module_version": "1.2.0",
      "_view_name": "StyleView",
      "description_width": ""
     }
    },
    "c7241323cf914ecbb4603ccccd98705f": {
     "model_module": "@jupyter-widgets/base",
     "model_name": "LayoutModel",
     "state": {
      "_model_module": "@jupyter-widgets/base",
      "_model_module_version": "1.2.0",
      "_model_name": "LayoutModel",
      "_view_count": null,
      "_view_module": "@jupyter-widgets/base",
      "_view_module_version": "1.2.0",
      "_view_name": "LayoutView",
      "align_content": null,
      "align_items": null,
      "align_self": null,
      "border": null,
      "bottom": null,
      "display": null,
      "flex": null,
      "flex_flow": null,
      "grid_area": null,
      "grid_auto_columns": null,
      "grid_auto_flow": null,
      "grid_auto_rows": null,
      "grid_column": null,
      "grid_gap": null,
      "grid_row": null,
      "grid_template_areas": null,
      "grid_template_columns": null,
      "grid_template_rows": null,
      "height": null,
      "justify_content": null,
      "justify_items": null,
      "left": null,
      "margin": null,
      "max_height": null,
      "max_width": null,
      "min_height": null,
      "min_width": null,
      "object_fit": null,
      "object_position": null,
      "order": null,
      "overflow": null,
      "overflow_x": null,
      "overflow_y": null,
      "padding": null,
      "right": null,
      "top": null,
      "visibility": null,
      "width": null
     }
    },
    "d2172bc18d6a420a8d7e0a1bb3b69e23": {
     "model_module": "@jupyter-widgets/controls",
     "model_name": "HTMLModel",
     "state": {
      "_dom_classes": [],
      "_model_module": "@jupyter-widgets/controls",
      "_model_module_version": "1.5.0",
      "_model_name": "HTMLModel",
      "_view_count": null,
      "_view_module": "@jupyter-widgets/controls",
      "_view_module_version": "1.5.0",
      "_view_name": "HTMLView",
      "description": "",
      "description_tooltip": null,
      "layout": "IPY_MODEL_56ac40250b79440bbe0d95933c9ae8e8",
      "placeholder": "​",
      "style": "IPY_MODEL_5763231ceb434c55ad784aa03afbe45d",
      "value": " 1.04M/1.04M [00:01&lt;00:00, 582kB/s]"
     }
    },
    "d32e5580197341898c8817fcef34eb56": {
     "model_module": "@jupyter-widgets/controls",
     "model_name": "HTMLModel",
     "state": {
      "_dom_classes": [],
      "_model_module": "@jupyter-widgets/controls",
      "_model_module_version": "1.5.0",
      "_model_name": "HTMLModel",
      "_view_count": null,
      "_view_module": "@jupyter-widgets/controls",
      "_view_module_version": "1.5.0",
      "_view_name": "HTMLView",
      "description": "",
      "description_tooltip": null,
      "layout": "IPY_MODEL_516a3444976945be8f0a93810d9c6e03",
      "placeholder": "​",
      "style": "IPY_MODEL_c337b040a7514d6384b50bece66cb8ed",
      "value": " 456k/456k [00:00&lt;00:00, 913kB/s]"
     }
    },
    "d747e350678543f6ae0c237cecaa6e3f": {
     "model_module": "@jupyter-widgets/controls",
     "model_name": "HBoxModel",
     "state": {
      "_dom_classes": [],
      "_model_module": "@jupyter-widgets/controls",
      "_model_module_version": "1.5.0",
      "_model_name": "HBoxModel",
      "_view_count": null,
      "_view_module": "@jupyter-widgets/controls",
      "_view_module_version": "1.5.0",
      "_view_name": "HBoxView",
      "box_style": "",
      "children": [
       "IPY_MODEL_0c147b1df0d14336a73811fb85044efd",
       "IPY_MODEL_d32e5580197341898c8817fcef34eb56"
      ],
      "layout": "IPY_MODEL_f6521c70ba724b268103338c2e4d8885"
     }
    },
    "e272f30f056b4cf1b1f92dfe50e045bc": {
     "model_module": "@jupyter-widgets/controls",
     "model_name": "FloatProgressModel",
     "state": {
      "_dom_classes": [],
      "_model_module": "@jupyter-widgets/controls",
      "_model_module_version": "1.5.0",
      "_model_name": "FloatProgressModel",
      "_view_count": null,
      "_view_module": "@jupyter-widgets/controls",
      "_view_module_version": "1.5.0",
      "_view_name": "ProgressView",
      "bar_style": "success",
      "description": "Downloading: 100%",
      "description_tooltip": null,
      "layout": "IPY_MODEL_964d71dc60fe459cb957453e47937e50",
      "max": 1042301,
      "min": 0,
      "orientation": "horizontal",
      "style": "IPY_MODEL_316c4b609fdc471e8b21a7c9338f19e5",
      "value": 1042301
     }
    },
    "f6521c70ba724b268103338c2e4d8885": {
     "model_module": "@jupyter-widgets/base",
     "model_name": "LayoutModel",
     "state": {
      "_model_module": "@jupyter-widgets/base",
      "_model_module_version": "1.2.0",
      "_model_name": "LayoutModel",
      "_view_count": null,
      "_view_module": "@jupyter-widgets/base",
      "_view_module_version": "1.2.0",
      "_view_name": "LayoutView",
      "align_content": null,
      "align_items": null,
      "align_self": null,
      "border": null,
      "bottom": null,
      "display": null,
      "flex": null,
      "flex_flow": null,
      "grid_area": null,
      "grid_auto_columns": null,
      "grid_auto_flow": null,
      "grid_auto_rows": null,
      "grid_column": null,
      "grid_gap": null,
      "grid_row": null,
      "grid_template_areas": null,
      "grid_template_columns": null,
      "grid_template_rows": null,
      "height": null,
      "justify_content": null,
      "justify_items": null,
      "left": null,
      "margin": null,
      "max_height": null,
      "max_width": null,
      "min_height": null,
      "min_width": null,
      "object_fit": null,
      "object_position": null,
      "order": null,
      "overflow": null,
      "overflow_x": null,
      "overflow_y": null,
      "padding": null,
      "right": null,
      "top": null,
      "visibility": null,
      "width": null
     }
    },
    "fc0dda773fe5482ba358f55b9b277306": {
     "model_module": "@jupyter-widgets/controls",
     "model_name": "ProgressStyleModel",
     "state": {
      "_model_module": "@jupyter-widgets/controls",
      "_model_module_version": "1.5.0",
      "_model_name": "ProgressStyleModel",
      "_view_count": null,
      "_view_module": "@jupyter-widgets/base",
      "_view_module_version": "1.2.0",
      "_view_name": "StyleView",
      "bar_color": null,
      "description_width": "initial"
     }
    }
   }
  }
 },
 "nbformat": 4,
 "nbformat_minor": 1
}
